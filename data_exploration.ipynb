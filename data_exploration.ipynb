{
 "cells": [
  {
   "cell_type": "code",
   "execution_count": 24,
   "id": "human-aluminum",
   "metadata": {},
   "outputs": [
    {
     "name": "stderr",
     "output_type": "stream",
     "text": [
      "100%|██████████| 42/42 [03:15<00:00,  4.66s/it]\n"
     ]
    },
    {
     "data": {
      "text/html": [
       "<div>\n",
       "<style scoped>\n",
       "    .dataframe tbody tr th:only-of-type {\n",
       "        vertical-align: middle;\n",
       "    }\n",
       "\n",
       "    .dataframe tbody tr th {\n",
       "        vertical-align: top;\n",
       "    }\n",
       "\n",
       "    .dataframe thead th {\n",
       "        text-align: right;\n",
       "    }\n",
       "</style>\n",
       "<table border=\"1\" class=\"dataframe\">\n",
       "  <thead>\n",
       "    <tr style=\"text-align: right;\">\n",
       "      <th></th>\n",
       "    </tr>\n",
       "  </thead>\n",
       "  <tbody>\n",
       "    <tr>\n",
       "      <th>A1BG</th>\n",
       "    </tr>\n",
       "    <tr>\n",
       "      <th>A1BG-AS1</th>\n",
       "    </tr>\n",
       "    <tr>\n",
       "      <th>A1CF</th>\n",
       "    </tr>\n",
       "    <tr>\n",
       "      <th>A2M</th>\n",
       "    </tr>\n",
       "    <tr>\n",
       "      <th>A2M-AS1</th>\n",
       "    </tr>\n",
       "    <tr>\n",
       "      <th>...</th>\n",
       "    </tr>\n",
       "    <tr>\n",
       "      <th>ZYG11A</th>\n",
       "    </tr>\n",
       "    <tr>\n",
       "      <th>ZYG11B</th>\n",
       "    </tr>\n",
       "    <tr>\n",
       "      <th>ZYX</th>\n",
       "    </tr>\n",
       "    <tr>\n",
       "      <th>ZZEF1</th>\n",
       "    </tr>\n",
       "    <tr>\n",
       "      <th>ZZZ3</th>\n",
       "    </tr>\n",
       "  </tbody>\n",
       "</table>\n",
       "<p>27899 rows × 0 columns</p>\n",
       "</div>"
      ],
      "text/plain": [
       "Empty DataFrame\n",
       "Columns: []\n",
       "Index: [A1BG, A1BG-AS1, A1CF, A2M, A2M-AS1, A2ML1, A2MP1, A3GALT2, A4GALT, A4GNT, AA06, AAAS, AACS, AACSP1, AADAC, AADACL2, AADACL2-AS1, AADACL3, AADACL4, AADACP1, AADAT, AAED1, AAGAB, AAK1, AAMDC, AAMP, AANAT, AAR2, AARD, AARS, AARS2, AARSD1, AASDH, AASDHPPT, AASS, AATBC, AATF, AATK, AATK-AS1, ABALON, ABAT, ABCA1, ABCA10, ABCA11P, ABCA12, ABCA13, ABCA17P, ABCA2, ABCA3, ABCA4, ABCA5, ABCA6, ABCA7, ABCA8, ABCA9, ABCA9-AS1, ABCB1, ABCB10, ABCB11, ABCB4, ABCB5, ABCB6, ABCB7, ABCB8, ABCB9, ABCC1, ABCC10, ABCC11, ABCC12, ABCC13, ABCC2, ABCC3, ABCC4, ABCC5, ABCC5-AS1, ABCC6, ABCC6P1, ABCC6P2, ABCC8, ABCC9, ABCD1, ABCD2, ABCD3, ABCD4, ABCE1, ABCF1, ABCF2, ABCF3, ABCG1, ABCG2, ABCG4, ABCG5, ABCG8, ABHD1, ABHD10, ABHD11, ABHD11-AS1, ABHD12, ABHD12B, ABHD13, ...]\n",
       "\n",
       "[27899 rows x 0 columns]"
      ]
     },
     "execution_count": 24,
     "metadata": {},
     "output_type": "execute_result"
    }
   ],
   "source": [
    "import os\n",
    "import anndata\n",
    "from tqdm import tqdm\n",
    "\n",
    "def extract_sample_name(path):\n",
    "    return path[path.index('_')+1:path.index('.dem.txt')]\n",
    "\n",
    "assert extract_sample_name('GSM3587963_AML556-D0.dem.txt') == 'AML556-D0'\n",
    "\n",
    "def load_data(path):\n",
    "    files = os.listdir(path)\n",
    "    rna_seq_files = [os.path.join(path, f) for f in files if f.endswith('.dem.txt')]\n",
    "    samples = [anndata.read_text(f).T for f in tqdm(rna_seq_files)]\n",
    "    sample_names = [extract_sample_name(f) for f in rna_seq_files]\n",
    "    return anndata.concat(samples, label='sample', keys=sample_names, join='outer')\n",
    "\n",
    "d = load_data('data')\n",
    "d.var"
   ]
  },
  {
   "cell_type": "code",
   "execution_count": 25,
   "id": "charged-lucas",
   "metadata": {},
   "outputs": [
    {
     "data": {
      "text/html": [
       "<div>\n",
       "<style scoped>\n",
       "    .dataframe tbody tr th:only-of-type {\n",
       "        vertical-align: middle;\n",
       "    }\n",
       "\n",
       "    .dataframe tbody tr th {\n",
       "        vertical-align: top;\n",
       "    }\n",
       "\n",
       "    .dataframe thead th {\n",
       "        text-align: right;\n",
       "    }\n",
       "</style>\n",
       "<table border=\"1\" class=\"dataframe\">\n",
       "  <thead>\n",
       "    <tr style=\"text-align: right;\">\n",
       "      <th></th>\n",
       "      <th>sample</th>\n",
       "    </tr>\n",
       "  </thead>\n",
       "  <tbody>\n",
       "    <tr>\n",
       "      <th>AML328-D29_AAAACCCTACAC</th>\n",
       "      <td>AML328-D29</td>\n",
       "    </tr>\n",
       "    <tr>\n",
       "      <th>AML328-D29_AAAACCTCGTTC</th>\n",
       "      <td>AML328-D29</td>\n",
       "    </tr>\n",
       "    <tr>\n",
       "      <th>AML328-D29_AAAAGGTTGGTG</th>\n",
       "      <td>AML328-D29</td>\n",
       "    </tr>\n",
       "    <tr>\n",
       "      <th>AML328-D29_AAACAACGCGAC</th>\n",
       "      <td>AML328-D29</td>\n",
       "    </tr>\n",
       "    <tr>\n",
       "      <th>AML328-D29_AAACACACATTT</th>\n",
       "      <td>AML328-D29</td>\n",
       "    </tr>\n",
       "    <tr>\n",
       "      <th>...</th>\n",
       "      <td>...</td>\n",
       "    </tr>\n",
       "    <tr>\n",
       "      <th>AML314-D0_AGCGCTCAACGA</th>\n",
       "      <td>AML314-D0</td>\n",
       "    </tr>\n",
       "    <tr>\n",
       "      <th>AML314-D0_CGAGAGCTGCAT</th>\n",
       "      <td>AML314-D0</td>\n",
       "    </tr>\n",
       "    <tr>\n",
       "      <th>AML314-D0_CTCGACGCCGTT</th>\n",
       "      <td>AML314-D0</td>\n",
       "    </tr>\n",
       "    <tr>\n",
       "      <th>AML314-D0_GAGGTTGTTGCC</th>\n",
       "      <td>AML314-D0</td>\n",
       "    </tr>\n",
       "    <tr>\n",
       "      <th>AML314-D0_TCCGGTCCAGTA</th>\n",
       "      <td>AML314-D0</td>\n",
       "    </tr>\n",
       "  </tbody>\n",
       "</table>\n",
       "<p>39954 rows × 1 columns</p>\n",
       "</div>"
      ],
      "text/plain": [
       "                             sample\n",
       "AML328-D29_AAAACCCTACAC  AML328-D29\n",
       "AML328-D29_AAAACCTCGTTC  AML328-D29\n",
       "AML328-D29_AAAAGGTTGGTG  AML328-D29\n",
       "AML328-D29_AAACAACGCGAC  AML328-D29\n",
       "AML328-D29_AAACACACATTT  AML328-D29\n",
       "...                             ...\n",
       "AML314-D0_AGCGCTCAACGA    AML314-D0\n",
       "AML314-D0_CGAGAGCTGCAT    AML314-D0\n",
       "AML314-D0_CTCGACGCCGTT    AML314-D0\n",
       "AML314-D0_GAGGTTGTTGCC    AML314-D0\n",
       "AML314-D0_TCCGGTCCAGTA    AML314-D0\n",
       "\n",
       "[39954 rows x 1 columns]"
      ]
     },
     "execution_count": 25,
     "metadata": {},
     "output_type": "execute_result"
    }
   ],
   "source": [
    "d.obs"
   ]
  },
  {
   "cell_type": "code",
   "execution_count": 1,
   "id": "global-elizabeth",
   "metadata": {},
   "outputs": [
    {
     "ename": "NameError",
     "evalue": "name 'd' is not defined",
     "output_type": "error",
     "traceback": [
      "\u001b[0;31m---------------------------------------------------------------------------\u001b[0m",
      "\u001b[0;31mNameError\u001b[0m                                 Traceback (most recent call last)",
      "\u001b[0;32m<ipython-input-1-60cc447ee3b5>\u001b[0m in \u001b[0;36m<module>\u001b[0;34m\u001b[0m\n\u001b[1;32m      1\u001b[0m \u001b[0;32mfrom\u001b[0m \u001b[0msklearn\u001b[0m\u001b[0;34m.\u001b[0m\u001b[0mdecomposition\u001b[0m \u001b[0;32mimport\u001b[0m \u001b[0mPCA\u001b[0m\u001b[0;34m\u001b[0m\u001b[0;34m\u001b[0m\u001b[0m\n\u001b[1;32m      2\u001b[0m \u001b[0mpca\u001b[0m \u001b[0;34m=\u001b[0m \u001b[0mPCA\u001b[0m\u001b[0;34m(\u001b[0m\u001b[0mn_components\u001b[0m\u001b[0;34m=\u001b[0m\u001b[0;36m2\u001b[0m\u001b[0;34m)\u001b[0m\u001b[0;34m\u001b[0m\u001b[0;34m\u001b[0m\u001b[0m\n\u001b[0;32m----> 3\u001b[0;31m \u001b[0mprincipalComponents\u001b[0m \u001b[0;34m=\u001b[0m \u001b[0mpca\u001b[0m\u001b[0;34m.\u001b[0m\u001b[0mfit_transform\u001b[0m\u001b[0;34m(\u001b[0m\u001b[0md\u001b[0m\u001b[0;34m)\u001b[0m\u001b[0;34m\u001b[0m\u001b[0;34m\u001b[0m\u001b[0m\n\u001b[0m",
      "\u001b[0;31mNameError\u001b[0m: name 'd' is not defined"
     ]
    }
   ],
   "source": [
    "from sklearn.decomposition import PCA\n",
    "pca = PCA(n_components=2)\n",
    "principalComponents = pca.fit_transform(d)"
   ]
  },
  {
   "cell_type": "code",
   "execution_count": null,
   "id": "backed-photograph",
   "metadata": {},
   "outputs": [],
   "source": [
    "pc = principalComponents\n",
    "pc.shape"
   ]
  },
  {
   "cell_type": "code",
   "execution_count": null,
   "id": "official-andrew",
   "metadata": {},
   "outputs": [],
   "source": [
    "import plotly.express as px\n",
    "fig = px.scatter(pc)\n",
    "fig.show()"
   ]
  }
 ],
 "metadata": {
  "kernelspec": {
   "display_name": "Python 3",
   "language": "python",
   "name": "python3"
  },
  "language_info": {
   "codemirror_mode": {
    "name": "ipython",
    "version": 3
   },
   "file_extension": ".py",
   "mimetype": "text/x-python",
   "name": "python",
   "nbconvert_exporter": "python",
   "pygments_lexer": "ipython3",
   "version": "3.8.5"
  }
 },
 "nbformat": 4,
 "nbformat_minor": 5
}
